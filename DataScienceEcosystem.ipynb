{
 "cells": [
  {
   "cell_type": "markdown",
   "id": "95eaaf06",
   "metadata": {},
   "source": [
    "# Data Science Tools and Ecosystem"
   ]
  },
  {
   "cell_type": "markdown",
   "id": "e7007b56",
   "metadata": {},
   "source": [
    "####  In this notebook, Data Science Tools and Ecosystem are summarized."
   ]
  },
  {
   "cell_type": "markdown",
   "id": "9e92c562",
   "metadata": {},
   "source": [
    "### Objectives:\n",
    "#### We learned about the basic langugages, tools, plateforms used in data science. Some  of the tools are as follows:\n",
    "* PYthon\n",
    "* R\n",
    "* SQL\n",
    "* Pandas\n",
    "* Excel\n"
   ]
  },
  {
   "cell_type": "markdown",
   "id": "a7feaaca",
   "metadata": {},
   "source": [
    "#### Some of the popular languages that Data Scientists use are:\n",
    "1. Python\n",
    "2. R\n",
    "3. SQL"
   ]
  },
  {
   "cell_type": "markdown",
   "id": "4fc8478c",
   "metadata": {},
   "source": [
    "#### Some of the commonly used libraries used by Data Scientists include\n",
    "1. Pandas\n",
    "2. Numpy\n",
    "3. GGPlot"
   ]
  },
  {
   "cell_type": "markdown",
   "id": "a1af634b",
   "metadata": {},
   "source": [
    "## Data Science Tools\n",
    "\n",
    "\n",
    "|1|Jupyter Notebook  |\n",
    "|------|------------|\n",
    "| 2 |Excel |\n",
    "|------|------------|\n",
    "| 3 | Tableau |\n",
    "|------|------------|"
   ]
  },
  {
   "cell_type": "markdown",
   "id": "e320c647",
   "metadata": {},
   "source": [
    "### Below are a few examples of evaluating arithmetic expressions in Python"
   ]
  },
  {
   "cell_type": "code",
   "execution_count": 3,
   "id": "94d2a38d",
   "metadata": {},
   "outputs": [
    {
     "data": {
      "text/plain": [
       "17"
      ]
     },
     "execution_count": 3,
     "metadata": {},
     "output_type": "execute_result"
    }
   ],
   "source": [
    "#This a simple arithmetic expression to mutiply then add integers\n",
    "(3*4)+5"
   ]
  },
  {
   "cell_type": "code",
   "execution_count": 5,
   "id": "2357aa59",
   "metadata": {},
   "outputs": [
    {
     "data": {
      "text/plain": [
       "3"
      ]
     },
     "execution_count": 5,
     "metadata": {},
     "output_type": "execute_result"
    }
   ],
   "source": [
    "#This will convert 200 minutes to hours by diving by 60\n",
    "hours = 200//60\n",
    "hours"
   ]
  },
  {
   "cell_type": "markdown",
   "id": "244922c8",
   "metadata": {},
   "source": [
    "## Author\n",
    "Imran Khan"
   ]
  },
  {
   "cell_type": "code",
   "execution_count": null,
   "id": "adad7723",
   "metadata": {},
   "outputs": [],
   "source": []
  }
 ],
 "metadata": {
  "kernelspec": {
   "display_name": "Python 3 (ipykernel)",
   "language": "python",
   "name": "python3"
  },
  "language_info": {
   "codemirror_mode": {
    "name": "ipython",
    "version": 3
   },
   "file_extension": ".py",
   "mimetype": "text/x-python",
   "name": "python",
   "nbconvert_exporter": "python",
   "pygments_lexer": "ipython3",
   "version": "3.11.4"
  }
 },
 "nbformat": 4,
 "nbformat_minor": 5
}
